{
 "cells": [
  {
   "cell_type": "markdown",
   "metadata": {},
   "source": []
  },
  {
   "cell_type": "code",
   "execution_count": 2,
   "metadata": {},
   "outputs": [
    {
     "ename": "ImportError",
     "evalue": "cannot import name 'validate_structure' from 'validator' (/home/tchotan/Documents/projets/ssNA_InverseFolding/validator.py)",
     "output_type": "error",
     "traceback": [
      "\u001b[0;31m---------------------------------------------------------------------------\u001b[0m",
      "\u001b[0;31mImportError\u001b[0m                               Traceback (most recent call last)",
      "Cell \u001b[0;32mIn[2], line 2\u001b[0m\n\u001b[1;32m      1\u001b[0m \u001b[38;5;28;01mfrom\u001b[39;00m\u001b[38;5;250m \u001b[39m\u001b[38;5;21;01mgenerator\u001b[39;00m\u001b[38;5;250m \u001b[39m\u001b[38;5;28;01mimport\u001b[39;00m generate_random_sequence\n\u001b[0;32m----> 2\u001b[0m \u001b[38;5;28;01mfrom\u001b[39;00m\u001b[38;5;250m \u001b[39m\u001b[38;5;21;01mvalidator\u001b[39;00m\u001b[38;5;250m \u001b[39m\u001b[38;5;28;01mimport\u001b[39;00m validate_structure\n\u001b[1;32m      4\u001b[0m target_structure \u001b[38;5;241m=\u001b[39m \u001b[38;5;124m\"\u001b[39m\u001b[38;5;124m(((...)))\u001b[39m\u001b[38;5;124m\"\u001b[39m\n\u001b[1;32m      5\u001b[0m seq \u001b[38;5;241m=\u001b[39m generate_random_sequence(length\u001b[38;5;241m=\u001b[39m\u001b[38;5;241m9\u001b[39m, gc_target\u001b[38;5;241m=\u001b[39m\u001b[38;5;241m50\u001b[39m)\n",
      "\u001b[0;31mImportError\u001b[0m: cannot import name 'validate_structure' from 'validator' (/home/tchotan/Documents/projets/ssNA_InverseFolding/validator.py)"
     ]
    }
   ],
   "source": [
    "from generator import generate_random_sequence\n",
    "from validator import validate_structure\n",
    "\n",
    "target_structure = \"(((...)))\"\n",
    "seq = generate_random_sequence(length=9, gc_target=50)\n",
    "\n",
    "valid, total = validate_structure(seq, target_structure)\n",
    "\n",
    "print(f\"Séquence générée : {seq}\")\n",
    "print(f\"Appariements valides : {valid} / {total}\")\n"
   ]
  }
 ],
 "metadata": {
  "kernelspec": {
   "display_name": "RNAseq-env",
   "language": "python",
   "name": "python3"
  },
  "language_info": {
   "codemirror_mode": {
    "name": "ipython",
    "version": 3
   },
   "file_extension": ".py",
   "mimetype": "text/x-python",
   "name": "python",
   "nbconvert_exporter": "python",
   "pygments_lexer": "ipython3",
   "version": "3.10.12"
  }
 },
 "nbformat": 4,
 "nbformat_minor": 2
}
