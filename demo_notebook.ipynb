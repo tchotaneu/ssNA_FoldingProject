{
 "cells": [
  {
   "cell_type": "markdown",
   "metadata": {},
   "source": []
  },
  {
   "cell_type": "code",
   "execution_count": 1,
   "metadata": {},
   "outputs": [
    {
     "name": "stdout",
     "output_type": "stream",
     "text": [
      "Séquence générée : AGAGCTGTT\n",
      "Appariements valides : 1 / 3\n"
     ]
    }
   ],
   "source": [
    "from generator import generate_random_sequence\n",
    "from validator import validate_structure\n",
    "\n",
    "target_structure = \"(((...)))\"\n",
    "seq = generate_random_sequence(length=9, gc_target=50)\n",
    "\n",
    "valid, total = validate_structure(seq, target_structure)\n",
    "\n",
    "print(f\"Séquence générée : {seq}\")\n",
    "print(f\"Appariements valides : {valid} / {total}\")\n"
   ]
  }
 ],
 "metadata": {
  "kernelspec": {
   "display_name": "RNAseq-env",
   "language": "python",
   "name": "python3"
  },
  "language_info": {
   "codemirror_mode": {
    "name": "ipython",
    "version": 3
   },
   "file_extension": ".py",
   "mimetype": "text/x-python",
   "name": "python",
   "nbconvert_exporter": "python",
   "pygments_lexer": "ipython3",
   "version": "3.10.12"
  }
 },
 "nbformat": 4,
 "nbformat_minor": 2
}
